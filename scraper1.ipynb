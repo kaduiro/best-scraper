{
 "cells": [
  {
   "cell_type": "code",
   "execution_count": null,
   "id": "8bf3e45e",
   "metadata": {},
   "outputs": [
    {
     "name": "stdout",
     "output_type": "stream",
     "text": [
      "Saved: D:\\steganography\\manga\\玉子房\\image_1.jpg\n",
      "Saved: D:\\steganography\\manga\\玉子房\\image_2.jpg\n",
      "Saved: D:\\steganography\\manga\\玉子房\\image_3.jpg\n",
      "Saved: D:\\steganography\\manga\\玉子房\\image_4.jpg\n"
     ]
    }
   ],
   "source": [
    "import os\n",
    "import requests # type: ignore\n",
    "from bs4 import BeautifulSoup # type: ignore\n",
    "from urllib.parse import urljoin\n",
    "\n",
    "# 対象のWebページ\n",
    "TARGET_URL = \"https://www.ap-siken.com/apkakomon.php\"  # 任意の画像を含むページに変更する\n",
    "\n",
    "# 保存先ディレクトリ\n",
    "SAVE_DIR = \"D:\\steganography\\manga\"\n",
    "os.makedirs(SAVE_DIR, exist_ok=True)\n",
    "\n",
    "# HTML取得\n",
    "response = requests.get(TARGET_URL)\n",
    "soup = BeautifulSoup(response.content, \"html.parser\")\n",
    "\n",
    "# 画像タグをすべて取得\n",
    "img_tags = soup.find_all(\"img\")\n",
    "\n",
    "# 画像URLごとに処理\n",
    "for i, img in enumerate(img_tags, start=1):\n",
    "    img_url = img.get(\"src\")\n",
    "    if not img_url:\n",
    "        continue  # src属性がない場合はスキップ\n",
    "\n",
    "    # 相対URLを絶対URLに変換\n",
    "    img_url = urljoin(TARGET_URL, img_url)\n",
    "\n",
    "    # 画像データ取得\n",
    "    try:\n",
    "        img_data = requests.get(img_url).content\n",
    "        filename = os.path.join(SAVE_DIR, f\"image_{i}.jpg\")\n",
    "\n",
    "        # 書き込み\n",
    "        with open(filename, \"wb\") as f:\n",
    "            f.write(img_data)\n",
    "        print(f\"Saved: {filename}\")\n",
    "    except Exception as e:\n",
    "        print(f\"Failed to save {img_url}: {e}\")"
   ]
  },
  {
   "cell_type": "code",
   "execution_count": 4,
   "id": "6a00cf96",
   "metadata": {},
   "outputs": [
    {
     "name": "stdout",
     "output_type": "stream",
     "text": [
      "D:\\steganography\\manga\\玉子房\\image_4.jpg\n"
     ]
    }
   ],
   "source": [
    "print(filename)"
   ]
  },
  {
   "cell_type": "code",
   "execution_count": 1,
   "id": "4d2db2db",
   "metadata": {},
   "outputs": [
    {
     "ename": "NameError",
     "evalue": "name 'soup' is not defined",
     "output_type": "error",
     "traceback": [
      "\u001b[31m---------------------------------------------------------------------------\u001b[39m",
      "\u001b[31mNameError\u001b[39m                                 Traceback (most recent call last)",
      "\u001b[36mCell\u001b[39m\u001b[36m \u001b[39m\u001b[32mIn[1]\u001b[39m\u001b[32m, line 2\u001b[39m\n\u001b[32m      1\u001b[39m \u001b[38;5;66;03m#ページタイトルを取得して表示\u001b[39;00m\n\u001b[32m----> \u001b[39m\u001b[32m2\u001b[39m title_tag = \u001b[43msoup\u001b[49m.find(\u001b[33m\"\u001b[39m\u001b[33mtitle\u001b[39m\u001b[33m\"\u001b[39m)\n\u001b[32m      3\u001b[39m \u001b[38;5;28;01mif\u001b[39;00m title_tag:\n\u001b[32m      4\u001b[39m     \u001b[38;5;28mprint\u001b[39m(title_tag.text)\n",
      "\u001b[31mNameError\u001b[39m: name 'soup' is not defined"
     ]
    }
   ],
   "source": [
    "#ページタイトルを取得して表示\n",
    "title_tag = soup.find(\"title\")\n",
    "if title_tag:\n",
    "    print(title_tag.text)"
   ]
  },
  {
   "cell_type": "code",
   "execution_count": 10,
   "id": "ec76a7a7",
   "metadata": {},
   "outputs": [
    {
     "name": "stdout",
     "output_type": "stream",
     "text": [
      "C:\\Users\\akkun\\AppData\\Local\\Programs\\Microsoft VS Code\n"
     ]
    }
   ],
   "source": [
    "from pathlib import Path\n",
    "\n",
    "script_dir = Path().resolve()\n",
    "print(script_dir)"
   ]
  },
  {
   "cell_type": "code",
   "execution_count": 6,
   "id": "067ece0b",
   "metadata": {},
   "outputs": [
    {
     "name": "stdout",
     "output_type": "stream",
     "text": [
      "現在の作業ディレクトリ： c:\\Users\\akkun\\AppData\\Local\\Programs\\Microsoft VS Code\n"
     ]
    }
   ],
   "source": [
    "import os\n",
    "print(\"現在の作業ディレクトリ：\", os.getcwd())"
   ]
  },
  {
   "cell_type": "code",
   "execution_count": null,
   "id": "40856cb0",
   "metadata": {},
   "outputs": [],
   "source": [
    "import os\n",
    "base_dir=os.getcwd()\n",
    "log_dir=os.path.join(base_dir,\"logs\")\n",
    "log_file=os.path.join(log_dir,)"
   ]
  },
  {
   "cell_type": "code",
   "execution_count": null,
   "id": "abc6696d",
   "metadata": {},
   "outputs": [],
   "source": [
    "#画像URLをすべて抽出して表示\n",
    "img_tags = soup.find_all(\"img\")\n",
    "img_urls = [img.get(\"src\") for img in img_tags if img.get(\"src\")]\n",
    "for url in img_urls:\n",
    "    print(url)"
   ]
  },
  {
   "cell_type": "code",
   "execution_count": null,
   "id": "6c8ffa23",
   "metadata": {},
   "outputs": [],
   "source": [
    "# ディレクトリパスの結合は、os.path.join() や pathlib.Path を使うと、OSに依存せず安全です\n",
    "# pngファイルに変換\n",
    "# まとめてコメントアウトする方法\n",
    "from pathlib import Path\n",
    "\n",
    "base = Path(\"D:/steganography/manga\")\n",
    "SAVE_DIR = base / \"玉子房\"\n",
    "SAVE_DIR.mkdir(parents=True, exist_ok=True)"
   ]
  },
  {
   "cell_type": "code",
   "execution_count": null,
   "id": "bbe7d8cd",
   "metadata": {},
   "outputs": [],
   "source": [
    "#カテゴリや条件に応じたネスト\n",
    "category = \"文化\"\n",
    "filename = \"絵巻物\"\n",
    "SAVE_DIR = f\"E:/archive/{category}/{filename}\"\n",
    "os.makedirs(SAVE_DIR, exist_ok=True)"
   ]
  },
  {
   "cell_type": "code",
   "execution_count": null,
   "id": "3f73786c",
   "metadata": {},
   "outputs": [],
   "source": [
    "#日付ごとの保存フォルダを動的に作る\n",
    "import datetime\n",
    "\n",
    "date_str = datetime.date.today().isoformat()  # 例: \"2025-06-25\"\n",
    "SAVE_DIR = f\"D:/scraped_data/logs/{date_str}\"\n",
    "os.makedirs(SAVE_DIR, exist_ok=True) "
   ]
  }
 ],
 "metadata": {
  "kernelspec": {
   "display_name": "Python 3",
   "language": "python",
   "name": "python3"
  },
  "language_info": {
   "codemirror_mode": {
    "name": "ipython",
    "version": 3
   },
   "file_extension": ".py",
   "mimetype": "text/x-python",
   "name": "python",
   "nbconvert_exporter": "python",
   "pygments_lexer": "ipython3",
   "version": "3.11.9"
  }
 },
 "nbformat": 4,
 "nbformat_minor": 5
}
