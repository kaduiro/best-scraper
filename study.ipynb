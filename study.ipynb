{
 "cells": [
  {
   "cell_type": "code",
   "execution_count": null,
   "id": "fa3798ed",
   "metadata": {},
   "outputs": [
    {
     "name": "stdout",
     "output_type": "stream",
     "text": [
      "カレントディレクトリ：d:\\Programing\\python\n"
     ]
    }
   ],
   "source": [
    "import os\n",
    "import requests\n",
    "from bs4 import BeautifulSoup\n",
    "\n",
    "print(f\"カレントディレクトリ：{os.getcwd()}\")\n",
    "\n",
    "save_dir_name=input(f\"保存先の新規ディレクトリ名を入力してください。\\n もし、既存のディレクトリを保存先として指定する場合は「０」を入力して下さい\") \n",
    "\n",
    "if save_dir_name==0 :\n",
    "    save_dir:int=input(f\"保存先のディレクトリを入力してください\\n 例)D:/project/data\")\n",
    "    os.chdir(save_dir)\n",
    "    print(f\"現在のカレントディレクトリ：{save_dir}\")\n",
    "\n",
    "TARGET_URL = input(\"URLを入力してください\")\n",
    "\n"
   ]
  },
  {
   "cell_type": "code",
   "execution_count": 7,
   "id": "02a41408",
   "metadata": {},
   "outputs": [
    {
     "name": "stdout",
     "output_type": "stream",
     "text": [
      "d:\\Programing\\python\n",
      "complete \n",
      "保存先ディレクトリ：d:\\Programing\\python\n",
      "--- os.walk() を使ってフォルダの中身を探索 ---\n",
      "現在地（ルート）: my_data\n",
      "  このフォルダにあるサブフォルダ: ['documents', 'images', 'temp']\n",
      "  このフォルダにあるファイル: ['report.txt']\n",
      "------------------------------\n",
      "現在地（ルート）: my_data\\documents\n",
      "  このフォルダにあるサブフォルダ: []\n",
      "  このフォルダにあるファイル: ['memo.docx']\n",
      "------------------------------\n",
      "現在地（ルート）: my_data\\images\n",
      "  このフォルダにあるサブフォルダ: []\n",
      "  このフォルダにあるファイル: ['photo.jpg']\n",
      "------------------------------\n",
      "現在地（ルート）: my_data\\temp\n",
      "  このフォルダにあるサブフォルダ: []\n",
      "  このフォルダにあるファイル: []\n",
      "------------------------------\n",
      "\n",
      "練習用のフォルダとファイルを削除しました。\n"
     ]
    }
   ],
   "source": [
    "import os\n",
    "print(os.getcwd())\n",
    "\n",
    "os.makedirs(\"my_data/documents\",exist_ok=True)\n",
    "os.makedirs(\"my_data/images\",exist_ok=True)\n",
    "os.makedirs(\"my_data/temp\",exist_ok=True)\n",
    "\n",
    "with open(\"my_data/report.txt\", \"w\") as f:\n",
    "    f.write(\"これはレポートファイルです。\")\n",
    "with open(\"my_data/documents/memo.docx\", \"w\") as f:\n",
    "    f.write(\"これはメモファイルです。\")\n",
    "with open(\"my_data/images/photo.jpg\", \"w\") as f:\n",
    "    f.write(\"これは写真ファイルです。\")\n",
    "print(f\"complete \\n保存先ディレクトリ：{os.getcwd()}\")\n",
    "\n",
    "print(\"--- os.walk() を使ってフォルダの中身を探索 ---\")\n",
    "for root, dirs, files in os.walk(\"my_data\"):\n",
    "    print(f\"現在地（ルート）: {root}\")\n",
    "    print(f\"  このフォルダにあるサブフォルダ: {dirs}\")\n",
    "    print(f\"  このフォルダにあるファイル: {files}\")\n",
    "    print(\"-\" * 30)\n",
    "\n",
    "import shutil\n",
    "shutil.rmtree(\"my_data\")\n",
    "print(\"\\n練習用のフォルダとファイルを削除しました。\")"
   ]
  },
  {
   "cell_type": "code",
   "execution_count": 1,
   "id": "370de162",
   "metadata": {},
   "outputs": [
    {
     "name": "stdout",
     "output_type": "stream",
     "text": [
      "c:\\Users\\akkun\\AppData\\Local\\Programs\\Microsoft VS Code\n"
     ]
    }
   ],
   "source": [
    "import os\n",
    "print(os.getcwd())"
   ]
  }
 ],
 "metadata": {
  "kernelspec": {
   "display_name": "Python 3",
   "language": "python",
   "name": "python3"
  },
  "language_info": {
   "codemirror_mode": {
    "name": "ipython",
    "version": 3
   },
   "file_extension": ".py",
   "mimetype": "text/x-python",
   "name": "python",
   "nbconvert_exporter": "python",
   "pygments_lexer": "ipython3",
   "version": "3.11.9"
  }
 },
 "nbformat": 4,
 "nbformat_minor": 5
}
