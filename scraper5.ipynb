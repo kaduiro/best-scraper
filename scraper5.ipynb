{
 "cells": [
  {
   "cell_type": "markdown",
   "metadata": {},
   "source": [
    "# 画像スクレイピング Notebook (遅延読み込み対応版)\n",
    "\n",
    "このNotebookは、**Selenium** を利用してWebブラウザを自動操作し、JavaScriptによる画像の**遅延読み込み（Lazy Loading）**に対応した画像スクレイピングを行います。\n",
    "\n",
    "### ■ 使い方\n",
    "1. **【重要】事前準備:** このコードを実行するには、`selenium`ライブラリと、お使いのChromeブラウザに対応した`ChromeDriver`が必要です。\n",
    "    - **Seleniumのインストール:** ターミナルで `pip install selenium` を実行してください。\n",
    "    - **ChromeDriverの準備:** \n",
    "        1. ご自身のChromeブラウザのバージョンを確認します。（設定 > Google Chromeについて）\n",
    "        2. [Chrome for Testing availability](https://googlechromelabs.github.io/chrome-for-testing/) のサイトにアクセスし、お使いのバージョンに合った`chromedriver`（例: `win64`）をダウンロードします。\n",
    "        3. ダウンロードしたzipファイルを解凍し、出てきた `chromedriver.exe` をこのNotebookファイルと同じフォルダに置いてください。\n",
    "\n",
    "2. 下の「設定」セルで、`TARGET_URL`や`SAVE_DIR`などの変数を、ご自身の環境に合わせて編集してください。\n",
    "3. **「設定」セルを実行**します。（セルを選択して `Shift + Enter`）\n",
    "4. **「スクレイピング実行」セルを実行**すると、Chromeブラウザが自動で起動し、処理が始まります。"
   ]
  },
  {
   "cell_type": "code",
   "execution_count": 9,
   "metadata": {},
   "outputs": [
    {
     "name": "stdout",
     "output_type": "stream",
     "text": [
      "現在のPythonスクリプトの作業ディレクトリ: c:\\Users\\akkun\\kaduiro\\best-scraper\n"
     ]
    }
   ],
   "source": [
    "import os\n",
    "print(\"現在のPythonスクリプトの作業ディレクトリ:\", os.getcwd())"
   ]
  },
  {
   "cell_type": "code",
   "execution_count": 1,
   "metadata": {},
   "outputs": [
    {
     "name": "stdout",
     "output_type": "stream",
     "text": [
      "設定が読み込まれました。次のセルを実行してスクレイピングを開始してください。\n",
      "  対象URL: https://www.pixiv.net/artworks/132281003#1\n",
      "  保存先: D:\\steganography\\manga\n",
      "  保存形式: .png\n"
     ]
    }
   ],
   "source": [
    "import os\n",
    "\n",
    "# --- 設定 (このセルを直接編集してください) ---\n",
    "\n",
    "# 1. 画像を取得したいWebページのURL (JavaScriptで遅延読み込みするサイトを試せます)\n",
    "# 例: Pixivの作品ページなど\n",
    "TARGET_URL = \"https://www.pixiv.net/artworks/132281003#1\" \n",
    "\n",
    "# 2. 画像を保存するディレクトリのフルパス\n",
    "# (注意: このディレクトリは事前に作成しておく必要があります)\n",
    "SAVE_DIR = \"D:\\\\steganography\\\\manga\"  # 例: \"C:\\\\Users\\\\YourUser\\\\Downloads\\\\scraped_images\"\n",
    "\n",
    "# 3. 保存するファイル形式 (png, jpg, jpeg のいずれか)\n",
    "SAVE_FORMAT = \"png\"\n",
    "\n",
    "# 4. 自動スクロール設定\n",
    "SCROLL_PAUSE_TIME = 2  # 各スクロール後に新しい画像が読み込まれるのを待つ秒数\n",
    "\n",
    "# --- 設定はここまで ---\n",
    "\n",
    "# ▼ 設定内容の確認とディレクトリの存在チェック\n",
    "if not os.path.isdir(SAVE_DIR):\n",
    "    print(f\"エラー: 保存先ディレクトリ '{SAVE_DIR}' が存在しません。\")\n",
    "    print(\"上記の 'SAVE_DIR' を有効なパスに修正するか、ディレクトリを事前に作成してください。\")\n",
    "else:\n",
    "    print(\"設定が読み込まれました。次のセルを実行してスクレイピングを開始してください。\")\n",
    "    print(f\"  対象URL: {TARGET_URL}\")\n",
    "    print(f\"  保存先: {SAVE_DIR}\")\n",
    "    print(f\"  保存形式: .{SAVE_FORMAT}\")"
   ]
  },
  {
   "cell_type": "code",
   "execution_count": 8,
   "metadata": {},
   "outputs": [
    {
     "ename": "KeyboardInterrupt",
     "evalue": "",
     "output_type": "error",
     "traceback": [
      "\u001b[31m---------------------------------------------------------------------------\u001b[39m",
      "\u001b[31mSessionNotCreatedException\u001b[39m                Traceback (most recent call last)",
      "\u001b[36mFile \u001b[39m\u001b[32m~\\AppData\\Local\\Packages\\PythonSoftwareFoundation.Python.3.11_qbz5n2kfra8p0\\LocalCache\\local-packages\\Python311\\site-packages\\selenium\\webdriver\\remote\\webdriver.py:362\u001b[39m, in \u001b[36mWebDriver.start_session\u001b[39m\u001b[34m(self, capabilities)\u001b[39m\n\u001b[32m    361\u001b[39m \u001b[38;5;28;01mtry\u001b[39;00m:\n\u001b[32m--> \u001b[39m\u001b[32m362\u001b[39m     response = \u001b[38;5;28;43mself\u001b[39;49m\u001b[43m.\u001b[49m\u001b[43mexecute\u001b[49m\u001b[43m(\u001b[49m\u001b[43mCommand\u001b[49m\u001b[43m.\u001b[49m\u001b[43mNEW_SESSION\u001b[49m\u001b[43m,\u001b[49m\u001b[43m \u001b[49m\u001b[43mcaps\u001b[49m\u001b[43m)\u001b[49m[\u001b[33m\"\u001b[39m\u001b[33mvalue\u001b[39m\u001b[33m\"\u001b[39m]\n\u001b[32m    363\u001b[39m     \u001b[38;5;28mself\u001b[39m.session_id = response.get(\u001b[33m\"\u001b[39m\u001b[33msessionId\u001b[39m\u001b[33m\"\u001b[39m)\n",
      "\u001b[36mFile \u001b[39m\u001b[32m~\\AppData\\Local\\Packages\\PythonSoftwareFoundation.Python.3.11_qbz5n2kfra8p0\\LocalCache\\local-packages\\Python311\\site-packages\\selenium\\webdriver\\remote\\webdriver.py:454\u001b[39m, in \u001b[36mWebDriver.execute\u001b[39m\u001b[34m(self, driver_command, params)\u001b[39m\n\u001b[32m    453\u001b[39m \u001b[38;5;28;01mif\u001b[39;00m response:\n\u001b[32m--> \u001b[39m\u001b[32m454\u001b[39m     \u001b[38;5;28;43mself\u001b[39;49m\u001b[43m.\u001b[49m\u001b[43merror_handler\u001b[49m\u001b[43m.\u001b[49m\u001b[43mcheck_response\u001b[49m\u001b[43m(\u001b[49m\u001b[43mresponse\u001b[49m\u001b[43m)\u001b[49m\n\u001b[32m    455\u001b[39m     response[\u001b[33m\"\u001b[39m\u001b[33mvalue\u001b[39m\u001b[33m\"\u001b[39m] = \u001b[38;5;28mself\u001b[39m._unwrap_value(response.get(\u001b[33m\"\u001b[39m\u001b[33mvalue\u001b[39m\u001b[33m\"\u001b[39m, \u001b[38;5;28;01mNone\u001b[39;00m))\n",
      "\u001b[36mFile \u001b[39m\u001b[32m~\\AppData\\Local\\Packages\\PythonSoftwareFoundation.Python.3.11_qbz5n2kfra8p0\\LocalCache\\local-packages\\Python311\\site-packages\\selenium\\webdriver\\remote\\errorhandler.py:232\u001b[39m, in \u001b[36mErrorHandler.check_response\u001b[39m\u001b[34m(self, response)\u001b[39m\n\u001b[32m    231\u001b[39m     \u001b[38;5;28;01mraise\u001b[39;00m exception_class(message, screen, stacktrace, alert_text)  \u001b[38;5;66;03m# type: ignore[call-arg]  # mypy is not smart enough here\u001b[39;00m\n\u001b[32m--> \u001b[39m\u001b[32m232\u001b[39m \u001b[38;5;28;01mraise\u001b[39;00m exception_class(message, screen, stacktrace)\n",
      "\u001b[31mSessionNotCreatedException\u001b[39m: Message: session not created\nfrom unknown error: failed to write prefs file; For documentation on this error, please visit: https://www.selenium.dev/documentation/webdriver/troubleshooting/errors#sessionnotcreatedexception\nStacktrace:\n\tGetHandleVerifier [0x0x7ff68e336f75+76917]\n\tGetHandleVerifier [0x0x7ff68e336fd0+77008]\n\t(No symbol) [0x0x7ff68e0e9dea]\n\t(No symbol) [0x0x7ff68e12be07]\n\t(No symbol) [0x0x7ff68e12c08a]\n\t(No symbol) [0x0x7ff68e1257ea]\n\t(No symbol) [0x0x7ff68e122675]\n\t(No symbol) [0x0x7ff68e175e9e]\n\t(No symbol) [0x0x7ff68e175630]\n\t(No symbol) [0x0x7ff68e168243]\n\t(No symbol) [0x0x7ff68e131431]\n\t(No symbol) [0x0x7ff68e1321c3]\n\tGetHandleVerifier [0x0x7ff68e60d2ad+3051437]\n\tGetHandleVerifier [0x0x7ff68e607903+3028483]\n\tGetHandleVerifier [0x0x7ff68e62589d+3151261]\n\tGetHandleVerifier [0x0x7ff68e35183e+185662]\n\tGetHandleVerifier [0x0x7ff68e3596ff+218111]\n\tGetHandleVerifier [0x0x7ff68e33faf4+112628]\n\tGetHandleVerifier [0x0x7ff68e33fca9+113065]\n\tGetHandleVerifier [0x0x7ff68e326c78+10616]\n\tBaseThreadInitThunk [0x0x7ff9ac10e8d7+23]\n\tRtlUserThreadStart [0x0x7ff9acebc34c+44]\n",
      "\nDuring handling of the above exception, another exception occurred:\n",
      "\u001b[31mTimeoutError\u001b[39m                              Traceback (most recent call last)",
      "\u001b[36mFile \u001b[39m\u001b[32mC:\\Program Files\\WindowsApps\\PythonSoftwareFoundation.Python.3.11_3.11.2544.0_x64__qbz5n2kfra8p0\\Lib\\socket.py:836\u001b[39m, in \u001b[36mcreate_connection\u001b[39m\u001b[34m(address, timeout, source_address, all_errors)\u001b[39m\n\u001b[32m    835\u001b[39m     sock.bind(source_address)\n\u001b[32m--> \u001b[39m\u001b[32m836\u001b[39m \u001b[43msock\u001b[49m\u001b[43m.\u001b[49m\u001b[43mconnect\u001b[49m\u001b[43m(\u001b[49m\u001b[43msa\u001b[49m\u001b[43m)\u001b[49m\n\u001b[32m    837\u001b[39m \u001b[38;5;66;03m# Break explicitly a reference cycle\u001b[39;00m\n",
      "\u001b[31mTimeoutError\u001b[39m: timed out",
      "\nDuring handling of the above exception, another exception occurred:\n",
      "\u001b[31mKeyboardInterrupt\u001b[39m                         Traceback (most recent call last)",
      "\u001b[36mCell\u001b[39m\u001b[36m \u001b[39m\u001b[32mIn[8]\u001b[39m\u001b[32m, line 18\u001b[39m\n\u001b[32m     14\u001b[39m \u001b[38;5;28;01melse\u001b[39;00m:\n\u001b[32m     15\u001b[39m     \u001b[38;5;66;03m# Selenium WebDriverのセットアップ\u001b[39;00m\n\u001b[32m     16\u001b[39m     \u001b[38;5;66;03m# このファイルと同じ階層に chromedriver.exe があることを想定\u001b[39;00m\n\u001b[32m     17\u001b[39m     service = Service(executable_path=\u001b[33mr\u001b[39m\u001b[33m'\u001b[39m\u001b[33mC:\u001b[39m\u001b[33m\\\u001b[39m\u001b[33mUsers\u001b[39m\u001b[33m\\\u001b[39m\u001b[33makkun\u001b[39m\u001b[33m\\\u001b[39m\u001b[33mkaduiro\u001b[39m\u001b[33m\\\u001b[39m\u001b[33mbest-scraper\u001b[39m\u001b[33m\\\u001b[39m\u001b[33mchromedriver.exe\u001b[39m\u001b[33m'\u001b[39m)\n\u001b[32m---> \u001b[39m\u001b[32m18\u001b[39m     driver = \u001b[43mwebdriver\u001b[49m\u001b[43m.\u001b[49m\u001b[43mChrome\u001b[49m\u001b[43m(\u001b[49m\u001b[43mservice\u001b[49m\u001b[43m=\u001b[49m\u001b[43mservice\u001b[49m\u001b[43m)\u001b[49m\n\u001b[32m     20\u001b[39m     \u001b[38;5;28;01mtry\u001b[39;00m:\n\u001b[32m     21\u001b[39m         \u001b[38;5;66;03m# 1. ページにアクセス\u001b[39;00m\n\u001b[32m     22\u001b[39m         \u001b[38;5;28mprint\u001b[39m(\u001b[33mf\u001b[39m\u001b[33m\"\u001b[39m\u001b[38;5;130;01m\\n\u001b[39;00m\u001b[33mブラウザを起動し、\u001b[39m\u001b[33m'\u001b[39m\u001b[38;5;132;01m{\u001b[39;00mTARGET_URL\u001b[38;5;132;01m}\u001b[39;00m\u001b[33m'\u001b[39m\u001b[33m にアクセスします...\u001b[39m\u001b[33m\"\u001b[39m)\n",
      "\u001b[36mFile \u001b[39m\u001b[32m~\\AppData\\Local\\Packages\\PythonSoftwareFoundation.Python.3.11_qbz5n2kfra8p0\\LocalCache\\local-packages\\Python311\\site-packages\\selenium\\webdriver\\chrome\\webdriver.py:47\u001b[39m, in \u001b[36mWebDriver.__init__\u001b[39m\u001b[34m(self, options, service, keep_alive)\u001b[39m\n\u001b[32m     44\u001b[39m service = service \u001b[38;5;28;01mif\u001b[39;00m service \u001b[38;5;28;01melse\u001b[39;00m Service()\n\u001b[32m     45\u001b[39m options = options \u001b[38;5;28;01mif\u001b[39;00m options \u001b[38;5;28;01melse\u001b[39;00m Options()\n\u001b[32m---> \u001b[39m\u001b[32m47\u001b[39m \u001b[38;5;28;43msuper\u001b[39;49m\u001b[43m(\u001b[49m\u001b[43m)\u001b[49m\u001b[43m.\u001b[49m\u001b[34;43m__init__\u001b[39;49m\u001b[43m(\u001b[49m\n\u001b[32m     48\u001b[39m \u001b[43m    \u001b[49m\u001b[43mbrowser_name\u001b[49m\u001b[43m=\u001b[49m\u001b[43mDesiredCapabilities\u001b[49m\u001b[43m.\u001b[49m\u001b[43mCHROME\u001b[49m\u001b[43m[\u001b[49m\u001b[33;43m\"\u001b[39;49m\u001b[33;43mbrowserName\u001b[39;49m\u001b[33;43m\"\u001b[39;49m\u001b[43m]\u001b[49m\u001b[43m,\u001b[49m\n\u001b[32m     49\u001b[39m \u001b[43m    \u001b[49m\u001b[43mvendor_prefix\u001b[49m\u001b[43m=\u001b[49m\u001b[33;43m\"\u001b[39;49m\u001b[33;43mgoog\u001b[39;49m\u001b[33;43m\"\u001b[39;49m\u001b[43m,\u001b[49m\n\u001b[32m     50\u001b[39m \u001b[43m    \u001b[49m\u001b[43moptions\u001b[49m\u001b[43m=\u001b[49m\u001b[43moptions\u001b[49m\u001b[43m,\u001b[49m\n\u001b[32m     51\u001b[39m \u001b[43m    \u001b[49m\u001b[43mservice\u001b[49m\u001b[43m=\u001b[49m\u001b[43mservice\u001b[49m\u001b[43m,\u001b[49m\n\u001b[32m     52\u001b[39m \u001b[43m    \u001b[49m\u001b[43mkeep_alive\u001b[49m\u001b[43m=\u001b[49m\u001b[43mkeep_alive\u001b[49m\u001b[43m,\u001b[49m\n\u001b[32m     53\u001b[39m \u001b[43m\u001b[49m\u001b[43m)\u001b[49m\n",
      "\u001b[36mFile \u001b[39m\u001b[32m~\\AppData\\Local\\Packages\\PythonSoftwareFoundation.Python.3.11_qbz5n2kfra8p0\\LocalCache\\local-packages\\Python311\\site-packages\\selenium\\webdriver\\chromium\\webdriver.py:69\u001b[39m, in \u001b[36mChromiumDriver.__init__\u001b[39m\u001b[34m(self, browser_name, vendor_prefix, options, service, keep_alive)\u001b[39m\n\u001b[32m     60\u001b[39m executor = ChromiumRemoteConnection(\n\u001b[32m     61\u001b[39m     remote_server_addr=\u001b[38;5;28mself\u001b[39m.service.service_url,\n\u001b[32m     62\u001b[39m     browser_name=browser_name,\n\u001b[32m   (...)\u001b[39m\u001b[32m     65\u001b[39m     ignore_proxy=options._ignore_local_proxy,\n\u001b[32m     66\u001b[39m )\n\u001b[32m     68\u001b[39m \u001b[38;5;28;01mtry\u001b[39;00m:\n\u001b[32m---> \u001b[39m\u001b[32m69\u001b[39m     \u001b[38;5;28;43msuper\u001b[39;49m\u001b[43m(\u001b[49m\u001b[43m)\u001b[49m\u001b[43m.\u001b[49m\u001b[34;43m__init__\u001b[39;49m\u001b[43m(\u001b[49m\u001b[43mcommand_executor\u001b[49m\u001b[43m=\u001b[49m\u001b[43mexecutor\u001b[49m\u001b[43m,\u001b[49m\u001b[43m \u001b[49m\u001b[43moptions\u001b[49m\u001b[43m=\u001b[49m\u001b[43moptions\u001b[49m\u001b[43m)\u001b[49m\n\u001b[32m     70\u001b[39m \u001b[38;5;28;01mexcept\u001b[39;00m \u001b[38;5;167;01mException\u001b[39;00m:\n\u001b[32m     71\u001b[39m     \u001b[38;5;28mself\u001b[39m.quit()\n",
      "\u001b[36mFile \u001b[39m\u001b[32m~\\AppData\\Local\\Packages\\PythonSoftwareFoundation.Python.3.11_qbz5n2kfra8p0\\LocalCache\\local-packages\\Python311\\site-packages\\selenium\\webdriver\\remote\\webdriver.py:261\u001b[39m, in \u001b[36mWebDriver.__init__\u001b[39m\u001b[34m(self, command_executor, keep_alive, file_detector, options, locator_converter, web_element_cls, client_config)\u001b[39m\n\u001b[32m    259\u001b[39m \u001b[38;5;28mself\u001b[39m._authenticator_id = \u001b[38;5;28;01mNone\u001b[39;00m\n\u001b[32m    260\u001b[39m \u001b[38;5;28mself\u001b[39m.start_client()\n\u001b[32m--> \u001b[39m\u001b[32m261\u001b[39m \u001b[38;5;28;43mself\u001b[39;49m\u001b[43m.\u001b[49m\u001b[43mstart_session\u001b[49m\u001b[43m(\u001b[49m\u001b[43mcapabilities\u001b[49m\u001b[43m)\u001b[49m\n\u001b[32m    262\u001b[39m \u001b[38;5;28mself\u001b[39m._fedcm = FedCM(\u001b[38;5;28mself\u001b[39m)\n\u001b[32m    264\u001b[39m \u001b[38;5;28mself\u001b[39m._websocket_connection = \u001b[38;5;28;01mNone\u001b[39;00m\n",
      "\u001b[36mFile \u001b[39m\u001b[32m~\\AppData\\Local\\Packages\\PythonSoftwareFoundation.Python.3.11_qbz5n2kfra8p0\\LocalCache\\local-packages\\Python311\\site-packages\\selenium\\webdriver\\remote\\webdriver.py:367\u001b[39m, in \u001b[36mWebDriver.start_session\u001b[39m\u001b[34m(self, capabilities)\u001b[39m\n\u001b[32m    365\u001b[39m \u001b[38;5;28;01mexcept\u001b[39;00m \u001b[38;5;167;01mException\u001b[39;00m:\n\u001b[32m    366\u001b[39m     \u001b[38;5;28;01mif\u001b[39;00m \u001b[38;5;28mhasattr\u001b[39m(\u001b[38;5;28mself\u001b[39m, \u001b[33m\"\u001b[39m\u001b[33mservice\u001b[39m\u001b[33m\"\u001b[39m) \u001b[38;5;129;01mand\u001b[39;00m \u001b[38;5;28mself\u001b[39m.service \u001b[38;5;129;01mis\u001b[39;00m \u001b[38;5;129;01mnot\u001b[39;00m \u001b[38;5;28;01mNone\u001b[39;00m:\n\u001b[32m--> \u001b[39m\u001b[32m367\u001b[39m         \u001b[38;5;28;43mself\u001b[39;49m\u001b[43m.\u001b[49m\u001b[43mservice\u001b[49m\u001b[43m.\u001b[49m\u001b[43mstop\u001b[49m\u001b[43m(\u001b[49m\u001b[43m)\u001b[49m\n\u001b[32m    368\u001b[39m     \u001b[38;5;28;01mraise\u001b[39;00m\n",
      "\u001b[36mFile \u001b[39m\u001b[32m~\\AppData\\Local\\Packages\\PythonSoftwareFoundation.Python.3.11_qbz5n2kfra8p0\\LocalCache\\local-packages\\Python311\\site-packages\\selenium\\webdriver\\common\\service.py:152\u001b[39m, in \u001b[36mService.stop\u001b[39m\u001b[34m(self)\u001b[39m\n\u001b[32m    150\u001b[39m \u001b[38;5;28;01mif\u001b[39;00m \u001b[38;5;28mself\u001b[39m.process \u001b[38;5;129;01mis\u001b[39;00m \u001b[38;5;129;01mnot\u001b[39;00m \u001b[38;5;28;01mNone\u001b[39;00m \u001b[38;5;129;01mand\u001b[39;00m \u001b[38;5;28mself\u001b[39m.process.poll() \u001b[38;5;129;01mis\u001b[39;00m \u001b[38;5;28;01mNone\u001b[39;00m:\n\u001b[32m    151\u001b[39m     \u001b[38;5;28;01mtry\u001b[39;00m:\n\u001b[32m--> \u001b[39m\u001b[32m152\u001b[39m         \u001b[38;5;28;43mself\u001b[39;49m\u001b[43m.\u001b[49m\u001b[43msend_remote_shutdown_command\u001b[49m\u001b[43m(\u001b[49m\u001b[43m)\u001b[49m\n\u001b[32m    153\u001b[39m     \u001b[38;5;28;01mexcept\u001b[39;00m \u001b[38;5;167;01mTypeError\u001b[39;00m:\n\u001b[32m    154\u001b[39m         \u001b[38;5;28;01mpass\u001b[39;00m\n",
      "\u001b[36mFile \u001b[39m\u001b[32m~\\AppData\\Local\\Packages\\PythonSoftwareFoundation.Python.3.11_qbz5n2kfra8p0\\LocalCache\\local-packages\\Python311\\site-packages\\selenium\\webdriver\\common\\service.py:137\u001b[39m, in \u001b[36mService.send_remote_shutdown_command\u001b[39m\u001b[34m(self)\u001b[39m\n\u001b[32m    134\u001b[39m     \u001b[38;5;28;01mreturn\u001b[39;00m\n\u001b[32m    136\u001b[39m \u001b[38;5;28;01mfor\u001b[39;00m _ \u001b[38;5;129;01min\u001b[39;00m \u001b[38;5;28mrange\u001b[39m(\u001b[32m30\u001b[39m):\n\u001b[32m--> \u001b[39m\u001b[32m137\u001b[39m     \u001b[38;5;28;01mif\u001b[39;00m \u001b[38;5;129;01mnot\u001b[39;00m \u001b[38;5;28;43mself\u001b[39;49m\u001b[43m.\u001b[49m\u001b[43mis_connectable\u001b[49m\u001b[43m(\u001b[49m\u001b[43m)\u001b[49m:\n\u001b[32m    138\u001b[39m         \u001b[38;5;28;01mbreak\u001b[39;00m\n\u001b[32m    139\u001b[39m     sleep(\u001b[32m1\u001b[39m)\n",
      "\u001b[36mFile \u001b[39m\u001b[32m~\\AppData\\Local\\Packages\\PythonSoftwareFoundation.Python.3.11_qbz5n2kfra8p0\\LocalCache\\local-packages\\Python311\\site-packages\\selenium\\webdriver\\common\\service.py:126\u001b[39m, in \u001b[36mService.is_connectable\u001b[39m\u001b[34m(self)\u001b[39m\n\u001b[32m    123\u001b[39m \u001b[38;5;28;01mdef\u001b[39;00m\u001b[38;5;250m \u001b[39m\u001b[34mis_connectable\u001b[39m(\u001b[38;5;28mself\u001b[39m) -> \u001b[38;5;28mbool\u001b[39m:\n\u001b[32m    124\u001b[39m \u001b[38;5;250m    \u001b[39m\u001b[33;03m\"\"\"Establishes a socket connection to determine if the service running\u001b[39;00m\n\u001b[32m    125\u001b[39m \u001b[33;03m    on the port is accessible.\"\"\"\u001b[39;00m\n\u001b[32m--> \u001b[39m\u001b[32m126\u001b[39m     \u001b[38;5;28;01mreturn\u001b[39;00m \u001b[43mutils\u001b[49m\u001b[43m.\u001b[49m\u001b[43mis_connectable\u001b[49m\u001b[43m(\u001b[49m\u001b[38;5;28;43mself\u001b[39;49m\u001b[43m.\u001b[49m\u001b[43mport\u001b[49m\u001b[43m)\u001b[49m\n",
      "\u001b[36mFile \u001b[39m\u001b[32m~\\AppData\\Local\\Packages\\PythonSoftwareFoundation.Python.3.11_qbz5n2kfra8p0\\LocalCache\\local-packages\\Python311\\site-packages\\selenium\\webdriver\\common\\utils.py:99\u001b[39m, in \u001b[36mis_connectable\u001b[39m\u001b[34m(port, host)\u001b[39m\n\u001b[32m     97\u001b[39m socket_ = \u001b[38;5;28;01mNone\u001b[39;00m\n\u001b[32m     98\u001b[39m \u001b[38;5;28;01mtry\u001b[39;00m:\n\u001b[32m---> \u001b[39m\u001b[32m99\u001b[39m     socket_ = \u001b[43msocket\u001b[49m\u001b[43m.\u001b[49m\u001b[43mcreate_connection\u001b[49m\u001b[43m(\u001b[49m\u001b[43m(\u001b[49m\u001b[43mhost\u001b[49m\u001b[43m,\u001b[49m\u001b[43m \u001b[49m\u001b[43mport\u001b[49m\u001b[43m)\u001b[49m\u001b[43m,\u001b[49m\u001b[43m \u001b[49m\u001b[32;43m1\u001b[39;49m\u001b[43m)\u001b[49m\n\u001b[32m    100\u001b[39m     result = \u001b[38;5;28;01mTrue\u001b[39;00m\n\u001b[32m    101\u001b[39m \u001b[38;5;28;01mexcept\u001b[39;00m _is_connectable_exceptions:\n",
      "\u001b[36mFile \u001b[39m\u001b[32mC:\\Program Files\\WindowsApps\\PythonSoftwareFoundation.Python.3.11_3.11.2544.0_x64__qbz5n2kfra8p0\\Lib\\socket.py:843\u001b[39m, in \u001b[36mcreate_connection\u001b[39m\u001b[34m(address, timeout, source_address, all_errors)\u001b[39m\n\u001b[32m    841\u001b[39m \u001b[38;5;28;01mexcept\u001b[39;00m error \u001b[38;5;28;01mas\u001b[39;00m exc:\n\u001b[32m    842\u001b[39m     \u001b[38;5;28;01mif\u001b[39;00m \u001b[38;5;129;01mnot\u001b[39;00m all_errors:\n\u001b[32m--> \u001b[39m\u001b[32m843\u001b[39m         \u001b[43mexceptions\u001b[49m\u001b[43m.\u001b[49m\u001b[43mclear\u001b[49m\u001b[43m(\u001b[49m\u001b[43m)\u001b[49m  \u001b[38;5;66;03m# raise only the last error\u001b[39;00m\n\u001b[32m    844\u001b[39m     exceptions.append(exc)\n\u001b[32m    845\u001b[39m     \u001b[38;5;28;01mif\u001b[39;00m sock \u001b[38;5;129;01mis\u001b[39;00m \u001b[38;5;129;01mnot\u001b[39;00m \u001b[38;5;28;01mNone\u001b[39;00m:\n",
      "\u001b[31mKeyboardInterrupt\u001b[39m: "
     ]
    }
   ],
   "source": [
    "# --- スクレイピング実行 ---\n",
    "\n",
    "import time\n",
    "import requests\n",
    "from bs4 import BeautifulSoup\n",
    "from urllib.parse import urljoin\n",
    "from selenium import webdriver\n",
    "from selenium.webdriver.chrome.service import Service\n",
    "from selenium.webdriver.common.by import By\n",
    "\n",
    "# 設定セルでエラーが出ていないか再度チェック\n",
    "if not os.path.isdir(SAVE_DIR):\n",
    "    print(f\"エラー: 保存先ディレクトリ '{SAVE_DIR}' が見つかりません。上の設定セルを修正・実行してください。\")\n",
    "else:\n",
    "    # Selenium WebDriverのセットアップ\n",
    "    # このファイルと同じ階層に chromedriver.exe があることを想定\n",
    "    service = Service(executable_path=r'C:\\Users\\akkun\\kaduiro\\best-scraper\\chromedriver.exe')\n",
    "    driver = webdriver.Chrome(service=service)\n",
    "\n",
    "    try:\n",
    "        # 1. ページにアクセス\n",
    "        print(f\"\\nブラウザを起動し、'{TARGET_URL}' にアクセスします...\")\n",
    "        driver.get(TARGET_URL)\n",
    "        time.sleep(5) # ページ初期読み込みの待機\n",
    "\n",
    "        # 2. ページを最後までスクロールして、遅延読み込み画像をすべて表示させる\n",
    "        print(\"ページをスクロールして、すべての画像を読み込んでいます...\")\n",
    "        last_height = driver.execute_script(\"return document.body.scrollHeight\")\n",
    "        while True:\n",
    "            # 画面の高さ分スクロールダウン\n",
    "            driver.execute_script(\"window.scrollTo(0, document.body.scrollHeight);\")\n",
    "            # 新しいコンテンツの読み込み待ち\n",
    "            time.sleep(SCROLL_PAUSE_TIME)\n",
    "            # スクロール後の高さを取得\n",
    "            new_height = driver.execute_script(\"return document.body.scrollHeight\")\n",
    "            if new_height == last_height:\n",
    "                break # スクロールしても高さが変わらなければ、ページの最下部と判断\n",
    "            last_height = new_height\n",
    "        print(\"スクロール完了。\")\n",
    "\n",
    "        # 3. JavaScript実行後のHTMLを取得してBeautifulSoupで解析\n",
    "        html = driver.page_source\n",
    "        soup = BeautifulSoup(html, \"html.parser\")\n",
    "        img_tags = soup.find_all(\"img\")\n",
    "\n",
    "        if not img_tags:\n",
    "            print(\"ページ内に画像が見つかりませんでした。\")\n",
    "        else:\n",
    "            print(f\"{len(img_tags)} 個の画像タグが見つかりました。ダウンロードを開始します。\")\n",
    "            # 4. 画像URLごとに処理\n",
    "            saved_count = 0\n",
    "            for i, img in enumerate(img_tags, start=1):\n",
    "                img_url = img.get(\"src\")\n",
    "                if not img_url or not img_url.startswith('http'):\n",
    "                    # src属性がない、またはdata:imageのような埋め込み画像はスキップ\n",
    "                    continue\n",
    "\n",
    "                try:\n",
    "                    print(f\"({i}/{len(img_tags)}) ダウンロード中: {img_url[:80]}...\")\n",
    "                    # Selenium経由ではなくrequestsでダウンロード（セッションを共有しないため高速）\n",
    "                    img_data = requests.get(img_url, timeout=15, headers={'Referer': TARGET_URL}).content\n",
    "                    \n",
    "                    base_name, _ = os.path.splitext(os.path.basename(img_url).split('?')[0])\n",
    "                    if not base_name:\n",
    "                        base_name = f\"image_{saved_count + 1}\"\n",
    "                    \n",
    "                    filename = f\"{saved_count + 1:03d}_{base_name}.{SAVE_FORMAT}\"\n",
    "                    save_path = os.path.join(SAVE_DIR, filename)\n",
    "\n",
    "                    with open(save_path, \"wb\") as f:\n",
    "                        f.write(img_data)\n",
    "                    saved_count += 1\n",
    "                    time.sleep(1) # サーバー負荷軽減のための待機\n",
    "\n",
    "                except requests.exceptions.RequestException as e:\n",
    "                    print(f\"  -> エラー: ダウンロードに失敗しました: {e}\")\n",
    "                except Exception as e:\n",
    "                    print(f\"  -> エラー: 保存中に予期せぬエラーが発生しました: {e}\")\n",
    "\n",
    "            print(f\"\\n完了しました。{saved_count}個の画像を'{SAVE_DIR}'に保存しました。\")\n",
    "\n",
    "    finally:\n",
    "        # 処理が終了したら、必ずブラウザを閉じる\n",
    "        if 'driver' in locals():\n",
    "            driver.quit()\n",
    "            print(\"ブラウザを終了しました。\")"
   ]
  }
 ],
 "metadata": {
  "kernelspec": {
   "display_name": "Python 3",
   "language": "python",
   "name": "python3"
  },
  "language_info": {
   "codemirror_mode": {
    "name": "ipython",
    "version": 3
   },
   "file_extension": ".py",
   "mimetype": "text/x-python",
   "name": "python",
   "nbconvert_exporter": "python",
   "pygments_lexer": "ipython3",
   "version": "3.11.9"
  }
 },
 "nbformat": 4,
 "nbformat_minor": 4
}
